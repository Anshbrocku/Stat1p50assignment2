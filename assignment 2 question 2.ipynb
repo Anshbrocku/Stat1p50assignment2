{
 "cells": [
  {
   "cell_type": "code",
   "execution_count": 22,
   "id": "75b3d0e5",
   "metadata": {},
   "outputs": [
    {
     "name": "stdout",
     "output_type": "stream",
     "text": [
      "success!\n"
     ]
    }
   ],
   "source": [
    "from random import sample\n",
    "for i in range(0,100):\n",
    "\n",
    " a = sample(['1','2','3'],1)\n",
    " b = sample(['1','2','3'],1)\n",
    "\n",
    " file_a = open(file='file1.txt', mode='a')\n",
    " file_b = open(file='file2.txt', mode='a')\n",
    "\n",
    " file_a.write('\\n'+a[0])\n",
    " \n",
    " file_b.write('\\n'+b[0])\n",
    "file_a.close()\n",
    "file_b.close()\n",
    "s=0    \n",
    "for i in range(0,100):\n",
    "    file_a = open(file='file1.txt', mode='r')\n",
    "    file_b = open(file='file2.txt', mode='r')\n",
    "    testvariable1=file_a.readline(i)\n",
    "    testvariable2=file_b.readline(i)\n",
    "    if testvariable1==testvariable2:\n",
    "        s=s+1\n",
    "    else:\n",
    "        s=s+0\n",
    "if s==100:\n",
    "    print(\"success!\")\n",
    "else:\n",
    "    print(\"try again!\")\n",
    "file_a.close()\n",
    "file_b.close()\n"
   ]
  }
 ],
 "metadata": {
  "kernelspec": {
   "display_name": "Python 3 (ipykernel)",
   "language": "python",
   "name": "python3"
  },
  "language_info": {
   "codemirror_mode": {
    "name": "ipython",
    "version": 3
   },
   "file_extension": ".py",
   "mimetype": "text/x-python",
   "name": "python",
   "nbconvert_exporter": "python",
   "pygments_lexer": "ipython3",
   "version": "3.9.7"
  }
 },
 "nbformat": 4,
 "nbformat_minor": 5
}
