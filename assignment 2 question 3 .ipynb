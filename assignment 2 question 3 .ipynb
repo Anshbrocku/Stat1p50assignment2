{
 "cells": [
  {
   "cell_type": "code",
   "execution_count": 20,
   "id": "3ebde2a7",
   "metadata": {},
   "outputs": [
    {
     "name": "stdout",
     "output_type": "stream",
     "text": [
      "['hello! this is a test\\n', 'Thank q']\n",
      "1\n"
     ]
    }
   ],
   "source": [
    "testfile=open('sample_file.txt', mode='r')\n",
    "count=0\n",
    "s=0\n",
    "sample=testfile.readlines()\n",
    "print(sample)\n",
    "for line in sample:\n",
    "    if 'q' in sample[count]:\n",
    "        s=s+1\n",
    "    else:\n",
    "        s=s+0\n",
    "    count=count+1\n",
    "print(s)\n",
    "\n",
    "    \n"
   ]
  },
  {
   "cell_type": "code",
   "execution_count": null,
   "id": "80723f9f",
   "metadata": {},
   "outputs": [],
   "source": []
  },
  {
   "cell_type": "code",
   "execution_count": null,
   "id": "e0323691",
   "metadata": {},
   "outputs": [],
   "source": []
  }
 ],
 "metadata": {
  "kernelspec": {
   "display_name": "Python 3 (ipykernel)",
   "language": "python",
   "name": "python3"
  },
  "language_info": {
   "codemirror_mode": {
    "name": "ipython",
    "version": 3
   },
   "file_extension": ".py",
   "mimetype": "text/x-python",
   "name": "python",
   "nbconvert_exporter": "python",
   "pygments_lexer": "ipython3",
   "version": "3.9.7"
  }
 },
 "nbformat": 4,
 "nbformat_minor": 5
}
