{
 "cells": [
  {
   "cell_type": "code",
   "execution_count": 31,
   "id": "d2a5a3a9",
   "metadata": {},
   "outputs": [
    {
     "name": "stdout",
     "output_type": "stream",
     "text": [
      "0.17618344748970624\n",
      "0.18499002859641722\n",
      "0.08106841913896294\n",
      "0.10771852576134276\n",
      "0.1143089700376372\n"
     ]
    }
   ],
   "source": [
    "import pandas as pd\n",
    "import matplotlib.pyplot as plt\n",
    "data=pd.read_csv('crime.csv')\n",
    "a=data['PctPopUnderPov']\n",
    "\n",
    "b=data['ViolentCrimesPerPop']\n",
    "c=data['PctUnemployed']\n",
    "d=data['PolicPerPop']\n",
    "e=data['Pcthomeless']\n",
    "f=data['PctBSorMore']\n",
    "\n",
    "def mean(listt):\n",
    " summ = 0\n",
    " for i in listt:\n",
    "  summ = summ +int(i) \n",
    " number = len(listt)\n",
    "\n",
    " avg = summ / number\n",
    " return(avg)\n",
    "\n",
    "def correlation(list1,list2):\n",
    "    summ=0\n",
    "    length=len(list1)\n",
    "    for i in range(0,length):\n",
    "        summ=summ+(list1[i]-mean(list1))*(list2[i]-mean(list2))\n",
    "    return summ/length    \n",
    "print(correlation(a,b))\n",
    "print(correlation(c,b))\n",
    "print(correlation(d,b))\n",
    "print(correlation(e,b))\n",
    "print(correlation(f,b))\n",
    "\n",
    "        "
   ]
  }
 ],
 "metadata": {
  "kernelspec": {
   "display_name": "Python 3 (ipykernel)",
   "language": "python",
   "name": "python3"
  },
  "language_info": {
   "codemirror_mode": {
    "name": "ipython",
    "version": 3
   },
   "file_extension": ".py",
   "mimetype": "text/x-python",
   "name": "python",
   "nbconvert_exporter": "python",
   "pygments_lexer": "ipython3",
   "version": "3.9.7"
  }
 },
 "nbformat": 4,
 "nbformat_minor": 5
}
