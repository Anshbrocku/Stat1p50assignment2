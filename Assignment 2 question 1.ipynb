{
 "cells": [
  {
   "cell_type": "code",
   "execution_count": 5,
   "id": "16981c61",
   "metadata": {},
   "outputs": [
    {
     "name": "stdout",
     "output_type": "stream",
     "text": [
      "input your FBS score to check its level!35\n",
      "hurry! your test is normal\n"
     ]
    }
   ],
   "source": [
    "fbstest= input('input your FBS score to check its level!')\n",
    "fbstest=int(fbstest)\n",
    "if fbstest<=99:\n",
    "    print(\"hurry! your test is normal\", )\n",
    "else:\n",
    "    print(\"your FBS test is out of range kindly seek medical attention!\")\n",
    "    "
   ]
  }
 ],
 "metadata": {
  "kernelspec": {
   "display_name": "Python 3 (ipykernel)",
   "language": "python",
   "name": "python3"
  },
  "language_info": {
   "codemirror_mode": {
    "name": "ipython",
    "version": 3
   },
   "file_extension": ".py",
   "mimetype": "text/x-python",
   "name": "python",
   "nbconvert_exporter": "python",
   "pygments_lexer": "ipython3",
   "version": "3.9.7"
  }
 },
 "nbformat": 4,
 "nbformat_minor": 5
}
