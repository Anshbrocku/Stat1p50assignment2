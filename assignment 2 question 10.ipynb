{
 "cells": [
  {
   "cell_type": "code",
   "execution_count": 14,
   "id": "458dd245",
   "metadata": {},
   "outputs": [
    {
     "name": "stdout",
     "output_type": "stream",
     "text": [
      "enter the number of number you want to work with5\n",
      "enter numbers2\n",
      "enter numbers3\n",
      "enter numbers4\n",
      "enter numbers5\n",
      "enter numbers7\n",
      "4.2\n",
      "3.847076812334269\n",
      "enter a number to check8\n",
      "not a outlier\n"
     ]
    }
   ],
   "source": [
    "length=int(input('enter the number of number you want to work with'))\n",
    "list=[]\n",
    "for i in range (0,length):\n",
    "    list=list+[int(input('enter numbers'))]\n",
    "mean=0\n",
    "for i in range (0,length):\n",
    "    mean=mean+list[i]\n",
    "mean=mean/length\n",
    "print(mean)\n",
    "sd=0\n",
    "for i in range(0,length):\n",
    "    sd=sd+(list[i]-mean)**2\n",
    "sd=sd**0.5\n",
    "print(sd)\n",
    "test=int(input('enter a number to check'))\n",
    "if test<(mean+3*sd) and test>(mean-3*sd):\n",
    "    print('not a outlier')\n",
    "else:\n",
    "    print('it is an outlier')\n",
    "\n",
    "    "
   ]
  }
 ],
 "metadata": {
  "kernelspec": {
   "display_name": "Python 3 (ipykernel)",
   "language": "python",
   "name": "python3"
  },
  "language_info": {
   "codemirror_mode": {
    "name": "ipython",
    "version": 3
   },
   "file_extension": ".py",
   "mimetype": "text/x-python",
   "name": "python",
   "nbconvert_exporter": "python",
   "pygments_lexer": "ipython3",
   "version": "3.9.7"
  }
 },
 "nbformat": 4,
 "nbformat_minor": 5
}
